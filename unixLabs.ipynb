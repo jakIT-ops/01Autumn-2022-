{
  "nbformat": 4,
  "nbformat_minor": 0,
  "metadata": {
    "colab": {
      "provenance": []
    },
    "kernelspec": {
      "name": "python3",
      "display_name": "Python 3"
    },
    "language_info": {
      "name": "python"
    }
  },
  "cells": [
    {
      "cell_type": "markdown",
      "source": [
        "## lab 5"
      ],
      "metadata": {
        "id": "rI7y_XieDZTl"
      }
    },
    {
      "cell_type": "code",
      "execution_count": 1,
      "metadata": {
        "id": "2-xS6Dhnj_r3",
        "colab": {
          "base_uri": "https://localhost:8080/"
        },
        "outputId": "9154e6d5-481b-4d14-c375-8b2e772e2697"
      },
      "outputs": [
        {
          "output_type": "stream",
          "name": "stdout",
          "text": [
            "Writing foo.c\n"
          ]
        }
      ],
      "source": [
        "%%file foo.c\n",
        "#include <stdio.h>\n",
        "#include <sys/stat.h>\n",
        "#include <sys/types.h>\n",
        "#include <unistd.h>\n",
        "\n",
        "int main(int argc, char *argv[]){\n",
        "\tint ret;\n",
        "\tret = mkdir(\"mynewdir\", S_IRUSR | S_IRGRP | S_IROTH | S_IXUSR | S_IXGRP | S_IXOTH);\n",
        "\n",
        "//\tret = rmdir(\"mynewdir\");\n",
        "\t\n",
        "\t//ret = symlink(\"mynewdir\", \"hellodir\");\n",
        "\t\n",
        "\tret = unlink(\"hellodir\");\n",
        "\treturn 0;\n",
        "}"
      ]
    },
    {
      "cell_type": "code",
      "source": [
        "!g++ foo.c -o foo"
      ],
      "metadata": {
        "id": "iYT6CuJpDyXu"
      },
      "execution_count": 3,
      "outputs": []
    },
    {
      "cell_type": "code",
      "source": [
        "!./foo"
      ],
      "metadata": {
        "id": "lhH-OF7kEEMQ"
      },
      "execution_count": 5,
      "outputs": []
    },
    {
      "cell_type": "markdown",
      "source": [
        "## lab 6"
      ],
      "metadata": {
        "id": "aBweAy12EWKU"
      }
    },
    {
      "cell_type": "code",
      "source": [
        "%%file notify.c\n",
        "#include <stdio.h>\n",
        "#include <stdlib.h>\n",
        "#include <errno.h>\n",
        "#include <sys/types.h>\n",
        "#include <linux/inotify.h>\n",
        "\n",
        "#define EVENT_SIZE  ( sizeof (struct inotify_event) )\n",
        "#define EVENT_BUF_LEN     ( 1024 * ( EVENT_SIZE + 16 ) )\n",
        "\n",
        "int main(){\n",
        "  int length, i = 0;\n",
        "  int fd;\n",
        "  int wd;\n",
        "  char buffer[EVENT_BUF_LEN];\n",
        "\n",
        "  /*creating the INOTIFY instance*/\n",
        "  fd = inotify_init();\n",
        "\n",
        "  /*checking for error*/\n",
        "  if ( fd < 0 ) {\n",
        "    perror( \"inotify_init\" );\n",
        "  }\n",
        "\n",
        "  /*adding the “/tmp” directory into watch list. Here, the suggestion is to validate the existence of the directory before adding into monitoring list.*/\n",
        "  wd = inotify_add_watch( fd, \"/forNotify\", IN_CREATE | IN_DELETE );\n",
        "\n",
        "  /*read to determine the event change happens on “/tmp” directory. Actually this read blocks until the change event occurs*/ \n",
        "\n",
        "  length = read( fd, buffer, EVENT_BUF_LEN ); \n",
        "\n",
        "  /*checking for error*/\n",
        "  if ( length < 0 ) {\n",
        "    perror( \"read\" );\n",
        "  }  \n",
        "\n",
        "  while ( i < length ) {     struct inotify_event *event = ( struct inotify_event * ) &buffer[ i ];     if ( event->len ) {\n",
        "      if ( event->mask & IN_CREATE ) {\n",
        "        if ( event->mask & IN_ISDIR ) {\n",
        "          printf( \"New directory %s created.\\n\", event->name );\n",
        "        }\n",
        "        else {\n",
        "          printf( \"New file %s created.\\n\", event->name );\n",
        "        }\n",
        "      }\n",
        "      else if ( event->mask & IN_DELETE ) {\n",
        "        if ( event->mask & IN_ISDIR ) {\n",
        "          printf( \"Directory %s deleted.\\n\", event->name );\n",
        "        }\n",
        "        else {\n",
        "          printf( \"File %s deleted.\\n\", event->name );\n",
        "        }\n",
        "      }\n",
        "    }\n",
        "    i += EVENT_SIZE + event->len;\n",
        "  }\n",
        "  /*removing the “/tmp” directory from the watch list.*/\n",
        "   inotify_rm_watch( fd, wd );\n",
        "\n",
        "  /*closing the INOTIFY instance*/\n",
        "   close( fd );\n",
        "}"
      ],
      "metadata": {
        "colab": {
          "base_uri": "https://localhost:8080/"
        },
        "id": "EUdUcALIEEHA",
        "outputId": "b76a7c3f-0a52-4184-9a05-494093f56d53"
      },
      "execution_count": 17,
      "outputs": [
        {
          "output_type": "stream",
          "name": "stdout",
          "text": [
            "Overwriting notify.c\n"
          ]
        }
      ]
    },
    {
      "cell_type": "code",
      "source": [
        "!mkdir forNotify"
      ],
      "metadata": {
        "colab": {
          "base_uri": "https://localhost:8080/"
        },
        "id": "Ys1n8jcwED9Y",
        "outputId": "12c94a0d-9cbd-4f73-8e6f-2219a821320e"
      },
      "execution_count": 14,
      "outputs": [
        {
          "output_type": "stream",
          "name": "stdout",
          "text": [
            "mkdir: cannot create directory ‘forNotify’: File exists\n"
          ]
        }
      ]
    },
    {
      "cell_type": "code",
      "source": [
        "!g++ notify.c -o notify"
      ],
      "metadata": {
        "colab": {
          "base_uri": "https://localhost:8080/"
        },
        "id": "Ae6oWxxEGRLD",
        "outputId": "3c7b90b3-d208-4c4f-f9e3-21bb814d742a"
      },
      "execution_count": 18,
      "outputs": [
        {
          "output_type": "stream",
          "name": "stdout",
          "text": [
            "\u001b[01m\u001b[Knotify.c:\u001b[m\u001b[K In function ‘\u001b[01m\u001b[Kint main()\u001b[m\u001b[K’:\n",
            "\u001b[01m\u001b[Knotify.c:17:8:\u001b[m\u001b[K \u001b[01;31m\u001b[Kerror: \u001b[m\u001b[K‘\u001b[01m\u001b[Kinotify_init\u001b[m\u001b[K’ was not declared in this scope\n",
            "   fd = \u001b[01;31m\u001b[Kinotify_init\u001b[m\u001b[K();\n",
            "        \u001b[01;31m\u001b[K^~~~~~~~~~~~\u001b[m\u001b[K\n",
            "\u001b[01m\u001b[Knotify.c:17:8:\u001b[m\u001b[K \u001b[01;36m\u001b[Knote: \u001b[m\u001b[Ksuggested alternative: ‘\u001b[01m\u001b[Kinotify_event\u001b[m\u001b[K’\n",
            "   fd = \u001b[01;36m\u001b[Kinotify_init\u001b[m\u001b[K();\n",
            "        \u001b[01;36m\u001b[K^~~~~~~~~~~~\u001b[m\u001b[K\n",
            "        \u001b[32m\u001b[Kinotify_event\u001b[m\u001b[K\n",
            "\u001b[01m\u001b[Knotify.c:25:8:\u001b[m\u001b[K \u001b[01;31m\u001b[Kerror: \u001b[m\u001b[K‘\u001b[01m\u001b[Kinotify_add_watch\u001b[m\u001b[K’ was not declared in this scope\n",
            "   wd = \u001b[01;31m\u001b[Kinotify_add_watch\u001b[m\u001b[K( fd, \"/forNotify\", IN_CREATE | IN_DELETE );\n",
            "        \u001b[01;31m\u001b[K^~~~~~~~~~~~~~~~~\u001b[m\u001b[K\n",
            "\u001b[01m\u001b[Knotify.c:25:8:\u001b[m\u001b[K \u001b[01;36m\u001b[Knote: \u001b[m\u001b[Ksuggested alternative: ‘\u001b[01m\u001b[Kinotify_event\u001b[m\u001b[K’\n",
            "   wd = \u001b[01;36m\u001b[Kinotify_add_watch\u001b[m\u001b[K( fd, \"/forNotify\", IN_CREATE | IN_DELETE );\n",
            "        \u001b[01;36m\u001b[K^~~~~~~~~~~~~~~~~\u001b[m\u001b[K\n",
            "        \u001b[32m\u001b[Kinotify_event\u001b[m\u001b[K\n",
            "\u001b[01m\u001b[Knotify.c:29:12:\u001b[m\u001b[K \u001b[01;31m\u001b[Kerror: \u001b[m\u001b[K‘\u001b[01m\u001b[Kread\u001b[m\u001b[K’ was not declared in this scope\n",
            "   length = \u001b[01;31m\u001b[Kread\u001b[m\u001b[K( fd, buffer, EVENT_BUF_LEN );\n",
            "            \u001b[01;31m\u001b[K^~~~\u001b[m\u001b[K\n",
            "\u001b[01m\u001b[Knotify.c:29:12:\u001b[m\u001b[K \u001b[01;36m\u001b[Knote: \u001b[m\u001b[Ksuggested alternative: ‘\u001b[01m\u001b[Kfread\u001b[m\u001b[K’\n",
            "   length = \u001b[01;36m\u001b[Kread\u001b[m\u001b[K( fd, buffer, EVENT_BUF_LEN );\n",
            "            \u001b[01;36m\u001b[K^~~~\u001b[m\u001b[K\n",
            "            \u001b[32m\u001b[Kfread\u001b[m\u001b[K\n",
            "\u001b[01m\u001b[Knotify.c:57:4:\u001b[m\u001b[K \u001b[01;31m\u001b[Kerror: \u001b[m\u001b[K‘\u001b[01m\u001b[Kinotify_rm_watch\u001b[m\u001b[K’ was not declared in this scope\n",
            "    \u001b[01;31m\u001b[Kinotify_rm_watch\u001b[m\u001b[K( fd, wd );\n",
            "    \u001b[01;31m\u001b[K^~~~~~~~~~~~~~~~\u001b[m\u001b[K\n",
            "\u001b[01m\u001b[Knotify.c:57:4:\u001b[m\u001b[K \u001b[01;36m\u001b[Knote: \u001b[m\u001b[Ksuggested alternative: ‘\u001b[01m\u001b[Kinotify_event\u001b[m\u001b[K’\n",
            "    \u001b[01;36m\u001b[Kinotify_rm_watch\u001b[m\u001b[K( fd, wd );\n",
            "    \u001b[01;36m\u001b[K^~~~~~~~~~~~~~~~\u001b[m\u001b[K\n",
            "    \u001b[32m\u001b[Kinotify_event\u001b[m\u001b[K\n",
            "\u001b[01m\u001b[Knotify.c:60:4:\u001b[m\u001b[K \u001b[01;31m\u001b[Kerror: \u001b[m\u001b[K‘\u001b[01m\u001b[Kclose\u001b[m\u001b[K’ was not declared in this scope\n",
            "    \u001b[01;31m\u001b[Kclose\u001b[m\u001b[K( fd );\n",
            "    \u001b[01;31m\u001b[K^~~~~\u001b[m\u001b[K\n",
            "\u001b[01m\u001b[Knotify.c:60:4:\u001b[m\u001b[K \u001b[01;36m\u001b[Knote: \u001b[m\u001b[Ksuggested alternative: ‘\u001b[01m\u001b[Kpclose\u001b[m\u001b[K’\n",
            "    \u001b[01;36m\u001b[Kclose\u001b[m\u001b[K( fd );\n",
            "    \u001b[01;36m\u001b[K^~~~~\u001b[m\u001b[K\n",
            "    \u001b[32m\u001b[Kpclose\u001b[m\u001b[K\n"
          ]
        }
      ]
    },
    {
      "cell_type": "markdown",
      "source": [
        "## LAB 7"
      ],
      "metadata": {
        "id": "ZkT8E0VjLjuj"
      }
    },
    {
      "cell_type": "markdown",
      "source": [
        "### 1"
      ],
      "metadata": {
        "id": "tvplqT2HNXVs"
      }
    },
    {
      "cell_type": "code",
      "source": [
        "%%file sumNum.c\n",
        "#include <stdio.h>\n",
        "\n",
        "int main(int argc, char *argv[]){\n",
        "\tint a,b,sum;\n",
        "\tif(argc!=3)\n",
        "\t{\n",
        "\t\tprintf(\"please use \\\"prg_name value1 value2 \\\"\\n\");\n",
        "\t\treturn -1;\n",
        "\t}\n",
        "\t\n",
        "\ta = atoi(argv[1]);\n",
        "\tb = atoi(argv[2]);\n",
        "\tsum = a+b;\n",
        "\t\n",
        "\tprintf(\"Sum of %d, %d is: %d\\n\",a,b,sum);\n",
        "\t\n",
        "\treturn 0;\n",
        "}"
      ],
      "metadata": {
        "colab": {
          "base_uri": "https://localhost:8080/"
        },
        "id": "sBdZmUvcNZFB",
        "outputId": "13a37efc-0022-4b09-d18d-f656cfc26657"
      },
      "execution_count": 24,
      "outputs": [
        {
          "output_type": "stream",
          "name": "stdout",
          "text": [
            "Writing sumNum.c\n"
          ]
        }
      ]
    },
    {
      "cell_type": "code",
      "source": [
        "!g++ sumNum.c"
      ],
      "metadata": {
        "colab": {
          "base_uri": "https://localhost:8080/"
        },
        "id": "62EhD7e6Njas",
        "outputId": "7b4e22c7-6c88-43fa-e736-08df016bdc3e"
      },
      "execution_count": 27,
      "outputs": [
        {
          "output_type": "stream",
          "name": "stdout",
          "text": [
            "\u001b[01m\u001b[KsumNum.c:\u001b[m\u001b[K In function ‘\u001b[01m\u001b[Kint main(int, char**)\u001b[m\u001b[K’:\n",
            "\u001b[01m\u001b[KsumNum.c:11:6:\u001b[m\u001b[K \u001b[01;31m\u001b[Kerror: \u001b[m\u001b[K‘\u001b[01m\u001b[Katoi\u001b[m\u001b[K’ was not declared in this scope\n",
            "  a = \u001b[01;31m\u001b[Katoi\u001b[m\u001b[K(argv[1]);\n",
            "      \u001b[01;31m\u001b[K^~~~\u001b[m\u001b[K\n",
            "\u001b[01m\u001b[KsumNum.c:11:6:\u001b[m\u001b[K \u001b[01;36m\u001b[Knote: \u001b[m\u001b[Ksuggested alternative: ‘\u001b[01m\u001b[Kauto\u001b[m\u001b[K’\n",
            "  a = \u001b[01;36m\u001b[Katoi\u001b[m\u001b[K(argv[1]);\n",
            "      \u001b[01;36m\u001b[K^~~~\u001b[m\u001b[K\n",
            "      \u001b[32m\u001b[Kauto\u001b[m\u001b[K\n"
          ]
        }
      ]
    },
    {
      "cell_type": "markdown",
      "source": [
        "## 2"
      ],
      "metadata": {
        "id": "WkI3beAeN8AJ"
      }
    },
    {
      "cell_type": "code",
      "source": [],
      "metadata": {
        "id": "_YtItyCWN67-"
      },
      "execution_count": null,
      "outputs": []
    },
    {
      "cell_type": "markdown",
      "source": [
        "## LAB 8"
      ],
      "metadata": {
        "id": "6e7osvZPLer9"
      }
    },
    {
      "cell_type": "code",
      "source": [
        "%%file calendar_time.c\n",
        "#include <locale.h>\n",
        "#include <time.h>\n",
        "#include <sys/time.h>\n",
        "//#include \"tlpi_hdr.h\"\n",
        "\n",
        "#define SECONDS_IN_TROPICAL_YEAR (365.24219 * 24 * 60 * 60)\n",
        "\n",
        "int main(int argc, char *argv[]){\n",
        "    time_t t;\n",
        "    struct tm *gmp, *locp;\n",
        "    struct tm gm, loc;\n",
        "    struct timeval tv;\n",
        "\n",
        "    /* Retrieve time, convert and display it in various forms */\n",
        "\n",
        "    t = time(NULL);\n",
        "    printf(\"Seconds since the Epoch (1 Jan 1970): %ld\", (long) t);\n",
        "    printf(\" (about %6.3f years)\\n\", t / SECONDS_IN_TROPICAL_YEAR);\n",
        "\n",
        "    if (gettimeofday(&tv, NULL) == -1)\n",
        "        errExit(\"gettimeofday\");\n",
        "    printf(\"  gettimeofday() returned %ld secs, %ld microsecs\\n\",\n",
        "            (long) tv.tv_sec, (long) tv.tv_usec);\n",
        "\n",
        "    gmp = gmtime(&t);\n",
        "    if (gmp == NULL)\n",
        "        errExit(\"gmtime\");\n",
        "\n",
        "    gm = *gmp;          /* Save local copy, since *gmp may be modified\n",
        "                           by asctime() or gmtime() */\n",
        "    printf(\"Broken down by gmtime():\\n\");\n",
        "    printf(\"  year=%d mon=%d mday=%d hour=%d min=%d sec=%d \", gm.tm_year,\n",
        "            gm.tm_mon, gm.tm_mday, gm.tm_hour, gm.tm_min, gm.tm_sec);\n",
        "    printf(\"wday=%d yday=%d isdst=%d\\n\", gm.tm_wday, gm.tm_yday, gm.tm_isdst);\n",
        "\n",
        "    /* The TZ environment variable will affect localtime().\n",
        "       Try, for example:\n",
        "                TZ=Pacific/Auckland calendar_time\n",
        "    */\n",
        "\n",
        "    locp = localtime(&t);\n",
        "    if (locp == NULL)\n",
        "        errExit(\"localtime\");\n",
        "\n",
        "    loc = *locp;        /* Save local copy */\n",
        "\n",
        "    printf(\"Broken down by localtime():\\n\");\n",
        "    printf(\"  year=%d mon=%d mday=%d hour=%d min=%d sec=%d \",\n",
        "            loc.tm_year, loc.tm_mon, loc.tm_mday,\n",
        "            loc.tm_hour, loc.tm_min, loc.tm_sec);\n",
        "    printf(\"wday=%d yday=%d isdst=%d\\n\\n\",\n",
        "            loc.tm_wday, loc.tm_yday, loc.tm_isdst);\n",
        "\n",
        "    printf(\"asctime() formats the gmtime() value as: %s\", asctime(&gm));\n",
        "    printf(\"ctime() formats the time() value as:     %s\", ctime(&t));\n",
        "\n",
        "    printf(\"mktime() of gmtime() value:    %ld secs\\n\", (long) mktime(&gm));\n",
        "    printf(\"mktime() of localtime() value: %ld secs\\n\", (long) mktime(&loc));\n",
        "\n",
        "    exit(EXIT_SUCCESS);\n",
        "}"
      ],
      "metadata": {
        "colab": {
          "base_uri": "https://localhost:8080/"
        },
        "id": "zuhkyiqdLn5s",
        "outputId": "099f1774-bcd3-405c-d142-06a6f4d0fd7c"
      },
      "execution_count": 21,
      "outputs": [
        {
          "output_type": "stream",
          "name": "stdout",
          "text": [
            "Overwriting calendar_time.c\n"
          ]
        }
      ]
    },
    {
      "cell_type": "code",
      "source": [
        "!gcc calendar_time.c -o calendar_time"
      ],
      "metadata": {
        "colab": {
          "base_uri": "https://localhost:8080/"
        },
        "id": "TlsmkACFMaPg",
        "outputId": "bd07759e-e65c-405f-c90d-77df023d0bc3"
      },
      "execution_count": 22,
      "outputs": [
        {
          "output_type": "stream",
          "name": "stdout",
          "text": [
            "\u001b[01m\u001b[Kcalendar_time.c:\u001b[m\u001b[K In function ‘\u001b[01m\u001b[Kmain\u001b[m\u001b[K’:\n",
            "\u001b[01m\u001b[Kcalendar_time.c:17:5:\u001b[m\u001b[K \u001b[01;35m\u001b[Kwarning: \u001b[m\u001b[Kimplicit declaration of function ‘\u001b[01m\u001b[Kprintf\u001b[m\u001b[K’ [\u001b[01;35m\u001b[K-Wimplicit-function-declaration\u001b[m\u001b[K]\n",
            "     \u001b[01;35m\u001b[Kprintf\u001b[m\u001b[K(\"Seconds since the Epoch (1 Jan 1970): %ld\", (long) t);\n",
            "     \u001b[01;35m\u001b[K^~~~~~\u001b[m\u001b[K\n",
            "\u001b[01m\u001b[Kcalendar_time.c:17:5:\u001b[m\u001b[K \u001b[01;35m\u001b[Kwarning: \u001b[m\u001b[Kincompatible implicit declaration of built-in function ‘\u001b[01m\u001b[Kprintf\u001b[m\u001b[K’\n",
            "\u001b[01m\u001b[Kcalendar_time.c:17:5:\u001b[m\u001b[K \u001b[01;36m\u001b[Knote: \u001b[m\u001b[Kinclude ‘\u001b[01m\u001b[K<stdio.h>\u001b[m\u001b[K’ or provide a declaration of ‘\u001b[01m\u001b[Kprintf\u001b[m\u001b[K’\n",
            "\u001b[01m\u001b[Kcalendar_time.c:21:9:\u001b[m\u001b[K \u001b[01;35m\u001b[Kwarning: \u001b[m\u001b[Kimplicit declaration of function ‘\u001b[01m\u001b[KerrExit\u001b[m\u001b[K’; did you mean ‘\u001b[01m\u001b[K_Exit\u001b[m\u001b[K’? [\u001b[01;35m\u001b[K-Wimplicit-function-declaration\u001b[m\u001b[K]\n",
            "         \u001b[01;35m\u001b[KerrExit\u001b[m\u001b[K(\"gettimeofday\");\n",
            "         \u001b[01;35m\u001b[K^~~~~~~\u001b[m\u001b[K\n",
            "         \u001b[32m\u001b[K_Exit\u001b[m\u001b[K\n",
            "\u001b[01m\u001b[Kcalendar_time.c:60:5:\u001b[m\u001b[K \u001b[01;35m\u001b[Kwarning: \u001b[m\u001b[Kimplicit declaration of function ‘\u001b[01m\u001b[Kexit\u001b[m\u001b[K’ [\u001b[01;35m\u001b[K-Wimplicit-function-declaration\u001b[m\u001b[K]\n",
            "     \u001b[01;35m\u001b[Kexit\u001b[m\u001b[K(EXIT_SUCCESS);\n",
            "     \u001b[01;35m\u001b[K^~~~\u001b[m\u001b[K\n",
            "\u001b[01m\u001b[Kcalendar_time.c:60:5:\u001b[m\u001b[K \u001b[01;35m\u001b[Kwarning: \u001b[m\u001b[Kincompatible implicit declaration of built-in function ‘\u001b[01m\u001b[Kexit\u001b[m\u001b[K’\n",
            "\u001b[01m\u001b[Kcalendar_time.c:60:5:\u001b[m\u001b[K \u001b[01;36m\u001b[Knote: \u001b[m\u001b[Kinclude ‘\u001b[01m\u001b[K<stdlib.h>\u001b[m\u001b[K’ or provide a declaration of ‘\u001b[01m\u001b[Kexit\u001b[m\u001b[K’\n",
            "\u001b[01m\u001b[Kcalendar_time.c:60:10:\u001b[m\u001b[K \u001b[01;31m\u001b[Kerror: \u001b[m\u001b[K‘\u001b[01m\u001b[KEXIT_SUCCESS\u001b[m\u001b[K’ undeclared (first use in this function)\n",
            "     exit(\u001b[01;31m\u001b[KEXIT_SUCCESS\u001b[m\u001b[K);\n",
            "          \u001b[01;31m\u001b[K^~~~~~~~~~~~\u001b[m\u001b[K\n",
            "\u001b[01m\u001b[Kcalendar_time.c:60:10:\u001b[m\u001b[K \u001b[01;36m\u001b[Knote: \u001b[m\u001b[Keach undeclared identifier is reported only once for each function it appears in\n"
          ]
        }
      ]
    }
  ]
}